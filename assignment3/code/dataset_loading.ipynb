{
 "cells": [
  {
   "cell_type": "code",
   "execution_count": 9,
   "id": "3a08b7c8",
   "metadata": {},
   "outputs": [],
   "source": [
    "import os\n",
    "import time\n",
    "from PIL import Image\n",
    "import imageio\n",
    "import pickle\n",
    "from tqdm.notebook import tqdm\n",
    "\n",
    "import numpy as np\n",
    "# import matplotlib.pyplot as plt\n",
    "# from matplotlib.cm import get_cmap\n",
    "\n",
    "# import mogrify"
   ]
  },
  {
   "cell_type": "code",
   "execution_count": 10,
   "id": "a001b09a",
   "metadata": {},
   "outputs": [],
   "source": [
    "base_dir = os.path.join(os.getcwd(), \"../\")\n",
    "# base_dir = os.path.join(os.getcwd(), \"drive/MyDrive/CSE291/assignments/assignment3/\")\n",
    "data_dir = os.path.join(base_dir, \"data/bottles/\")\n",
    "# data_dir = \"../data/bottles\"\n",
    "rgb_dir = os.path.join(data_dir, \"rgb\")\n",
    "pose_dir = os.path.join(data_dir, \"pose\")"
   ]
  },
  {
   "cell_type": "code",
   "execution_count": 11,
   "id": "8f4aa823",
   "metadata": {},
   "outputs": [],
   "source": [
    "def _minify(data_dir, factors=[], resolutions=[]):\n",
    "    needtoload = False\n",
    "    \n",
    "    for r in factors:\n",
    "        imgdir = os.path.join(data_dir, 'rgb_{}'.format(r))  # assignment3/code/../data/bottles/rgb_8\n",
    "        \n",
    "        if not os.path.exists(imgdir):\n",
    "            needtoload=True\n",
    "    \n",
    "    for r in resolutions:\n",
    "        imgdir = os.path.join(data_dir, 'rgb_{}x{}'.format(r[1], r[0]))\n",
    "        \n",
    "        if not os.path.exists(imgdir):\n",
    "            needtoload = True\n",
    "    \n",
    "    if needtoload == False:\n",
    "        return\n",
    "    \n",
    "    from shutil import copy\n",
    "    from subprocess import check_output\n",
    "    \n",
    "    imgdir = os.path.join(data_dir, 'rgb')\n",
    "    \n",
    "    imgs = [os.path.join(imgdir, f) for f in sorted(os.listdir(imgdir)) if f.endswith('JPG') or \n",
    "            f.endswith('jpg') or f.endswith('png') or f.endswith('PNG') or f.endswith('jpeg')]   # length = 200\n",
    "    \n",
    "    imgdir_orig = imgdir\n",
    "    \n",
    "    working_dir = os.getcwd()\n",
    "    \n",
    "    print(\"This is printed\")\n",
    "\n",
    "    for r in factors + resolutions:\n",
    "        if isinstance(r , int):\n",
    "            name = 'rgb_{}'.format(r)\n",
    "            resizearg = '{}%'.format(100./r)\n",
    "        else:\n",
    "            name = 'rgb_{}x{}'.format(r[1], r[0])\n",
    "            resizearg = '{}x{}'.format(r[1], r[0])\n",
    "        \n",
    "        imgdir = os.path.join(data_dir, name)\n",
    "        \n",
    "        if os.path.exists(imgdir):\n",
    "            continue\n",
    "    \n",
    "        print(\"Minifying\", r, data_dir)\n",
    "        \n",
    "        os.makedirs(imgdir)\n",
    "        check_output('cp {}/* {}'.format(imgdir_orig, imgdir), shell=True)\n",
    "        \n",
    "        extension = imgs[0].split('.')[-1]\n",
    "        \n",
    "        args = ' '.join(['mogrify', '-resize', resizearg, '-format', 'png', '*.{}'.format(extension)])\n",
    "        \n",
    "        print(args)\n",
    "        \n",
    "        os.chdir(imgdir)\n",
    "        check_output(args, shell=True)\n",
    "        \n",
    "        os.chdir(working_dir)\n",
    "        \n",
    "        if extension != 'png':\n",
    "            check_output('rm {}/*.{}'.format(imgdir, extension), shell=true)\n",
    "            print(\"Removed duplicates\")\n",
    "        \n",
    "        print(\"Done Minifying !!!\")"
   ]
  },
  {
   "cell_type": "code",
   "execution_count": 4,
   "id": "70dc7a36",
   "metadata": {},
   "outputs": [],
   "source": [
    "def _load_data(data_dir, factor=None, width=None, height=None, load_imgs=True):\n",
    "    \n",
    "    img0 = []\n",
    "    for f in sorted(os.listdir(os.path.join(data_dir, 'rgb'))):\n",
    "        if f.endswith('JPG') or f.endswith('jpg') or f.endswith('png'):\n",
    "            img0.append(os.path.join(data_dir, 'rgb', f))\n",
    "            break\n",
    "    \n",
    "    sh = imageio.imread(img0[0]).shape   # [800, 800, 4]\n",
    "\n",
    "    sfx = ''\n",
    "    if factor is not None:\n",
    "        sfx = '_{}'.format(factor)\n",
    "        _minify(data_dir, factors=[factor])\n",
    "        factor = factor\n",
    "    elif height is not None:\n",
    "        factor = sh[0] / float(height)\n",
    "        width = int(sh[1] / factor)\n",
    "        _minify(data_dir, resolutions=[[height, width]])\n",
    "        sfx = '_{}x{}'.format(width, height)\n",
    "    elif width is not None:\n",
    "        factor = sh[1] / float(width)\n",
    "        height = int(sh[1] / factor)\n",
    "        _minify(data_dir, resolutions=[[height, width]])\n",
    "        sfx = '_{}x{}'.format(width, height)\n",
    "    else:\n",
    "        factor = 1\n",
    "    \n",
    "    imgdir = os.path.join(data_dir, 'rgb' + sfx)\n",
    "    if not os.path.exists(imgdir):\n",
    "        print(imgdir, \"does not exist, returning\")\n",
    "        return\n",
    "    \n",
    "    imgfiles = []\n",
    "    for f in sorted(os.listdir(imgdir)):\n",
    "        if f.endswith('JPG') or f.endswith('jpg') or f.endswith('png'):\n",
    "            imgfiles.append(os.path.join(imgdir, f))\n",
    "    \n",
    "    if not load_imgs:\n",
    "        return poses, bds\n",
    "    \n",
    "    def imread(f):\n",
    "        if f.endswith('png'):\n",
    "            return imageio.imread(f, ignoregamma=True)\n",
    "        else:\n",
    "            return imageio.imread(f)\n",
    "        \n",
    "    imgs = [imread(f)[..., :3] / 255.0 for f in imgfiles]\n",
    "    imgs = np.stack(imgs, -1)\n",
    "    \n",
    "    return imgs"
   ]
  },
  {
   "cell_type": "code",
   "execution_count": 5,
   "id": "eeabd59b",
   "metadata": {},
   "outputs": [],
   "source": [
    "def load_llff_data(datadir, factor=8, recenter=True, bd_factor=0.75, spherify=False, path_zflat=False):\n",
    "    imgs = _load_data(data_dir, factor=factor)  # factor=8 downsamples images by 8x\n",
    "    "
   ]
  },
  {
   "cell_type": "code",
   "execution_count": 6,
   "id": "22e74525",
   "metadata": {},
   "outputs": [
    {
     "name": "stdout",
     "output_type": "stream",
     "text": [
      "This is printed\n",
      "Minifying 8 /home/sazim/private/CSE291/assignment3/code/../data/bottles/\n",
      "mogrify -resize 12.5% -format png *.png\n"
     ]
    },
    {
     "name": "stderr",
     "output_type": "stream",
     "text": [
      "/bin/sh: 1: mogrify: not found\n"
     ]
    },
    {
     "ename": "CalledProcessError",
     "evalue": "Command 'mogrify -resize 12.5% -format png *.png' returned non-zero exit status 127.",
     "output_type": "error",
     "traceback": [
      "\u001b[0;31m---------------------------------------------------------------------------\u001b[0m",
      "\u001b[0;31mCalledProcessError\u001b[0m                        Traceback (most recent call last)",
      "\u001b[0;32m/tmp/ipykernel_1832/3829559299.py\u001b[0m in \u001b[0;36m<module>\u001b[0;34m\u001b[0m\n\u001b[0;32m----> 1\u001b[0;31m \u001b[0mload_llff_data\u001b[0m\u001b[0;34m(\u001b[0m\u001b[0mdata_dir\u001b[0m\u001b[0;34m,\u001b[0m \u001b[0;36m8\u001b[0m\u001b[0;34m,\u001b[0m \u001b[0mrecenter\u001b[0m\u001b[0;34m=\u001b[0m\u001b[0;32mTrue\u001b[0m\u001b[0;34m,\u001b[0m \u001b[0mbd_factor\u001b[0m\u001b[0;34m=\u001b[0m\u001b[0;36m.75\u001b[0m\u001b[0;34m,\u001b[0m \u001b[0mspherify\u001b[0m\u001b[0;34m=\u001b[0m\u001b[0;32mFalse\u001b[0m\u001b[0;34m)\u001b[0m\u001b[0;34m\u001b[0m\u001b[0;34m\u001b[0m\u001b[0m\n\u001b[0m",
      "\u001b[0;32m/tmp/ipykernel_1832/4162556957.py\u001b[0m in \u001b[0;36mload_llff_data\u001b[0;34m(datadir, factor, recenter, bd_factor, spherify, path_zflat)\u001b[0m\n\u001b[1;32m      1\u001b[0m \u001b[0;32mdef\u001b[0m \u001b[0mload_llff_data\u001b[0m\u001b[0;34m(\u001b[0m\u001b[0mdatadir\u001b[0m\u001b[0;34m,\u001b[0m \u001b[0mfactor\u001b[0m\u001b[0;34m=\u001b[0m\u001b[0;36m8\u001b[0m\u001b[0;34m,\u001b[0m \u001b[0mrecenter\u001b[0m\u001b[0;34m=\u001b[0m\u001b[0;32mTrue\u001b[0m\u001b[0;34m,\u001b[0m \u001b[0mbd_factor\u001b[0m\u001b[0;34m=\u001b[0m\u001b[0;36m0.75\u001b[0m\u001b[0;34m,\u001b[0m \u001b[0mspherify\u001b[0m\u001b[0;34m=\u001b[0m\u001b[0;32mFalse\u001b[0m\u001b[0;34m,\u001b[0m \u001b[0mpath_zflat\u001b[0m\u001b[0;34m=\u001b[0m\u001b[0;32mFalse\u001b[0m\u001b[0;34m)\u001b[0m\u001b[0;34m:\u001b[0m\u001b[0;34m\u001b[0m\u001b[0;34m\u001b[0m\u001b[0m\n\u001b[0;32m----> 2\u001b[0;31m     \u001b[0mimgs\u001b[0m \u001b[0;34m=\u001b[0m \u001b[0m_load_data\u001b[0m\u001b[0;34m(\u001b[0m\u001b[0mdata_dir\u001b[0m\u001b[0;34m,\u001b[0m \u001b[0mfactor\u001b[0m\u001b[0;34m=\u001b[0m\u001b[0mfactor\u001b[0m\u001b[0;34m)\u001b[0m  \u001b[0;31m# factor=8 downsamples images by 8x\u001b[0m\u001b[0;34m\u001b[0m\u001b[0;34m\u001b[0m\u001b[0m\n\u001b[0m\u001b[1;32m      3\u001b[0m \u001b[0;34m\u001b[0m\u001b[0m\n",
      "\u001b[0;32m/tmp/ipykernel_1832/3330063686.py\u001b[0m in \u001b[0;36m_load_data\u001b[0;34m(data_dir, factor, width, height, load_imgs)\u001b[0m\n\u001b[1;32m     12\u001b[0m     \u001b[0;32mif\u001b[0m \u001b[0mfactor\u001b[0m \u001b[0;32mis\u001b[0m \u001b[0;32mnot\u001b[0m \u001b[0;32mNone\u001b[0m\u001b[0;34m:\u001b[0m\u001b[0;34m\u001b[0m\u001b[0;34m\u001b[0m\u001b[0m\n\u001b[1;32m     13\u001b[0m         \u001b[0msfx\u001b[0m \u001b[0;34m=\u001b[0m \u001b[0;34m'_{}'\u001b[0m\u001b[0;34m.\u001b[0m\u001b[0mformat\u001b[0m\u001b[0;34m(\u001b[0m\u001b[0mfactor\u001b[0m\u001b[0;34m)\u001b[0m\u001b[0;34m\u001b[0m\u001b[0;34m\u001b[0m\u001b[0m\n\u001b[0;32m---> 14\u001b[0;31m         \u001b[0m_minify\u001b[0m\u001b[0;34m(\u001b[0m\u001b[0mdata_dir\u001b[0m\u001b[0;34m,\u001b[0m \u001b[0mfactors\u001b[0m\u001b[0;34m=\u001b[0m\u001b[0;34m[\u001b[0m\u001b[0mfactor\u001b[0m\u001b[0;34m]\u001b[0m\u001b[0;34m)\u001b[0m\u001b[0;34m\u001b[0m\u001b[0;34m\u001b[0m\u001b[0m\n\u001b[0m\u001b[1;32m     15\u001b[0m         \u001b[0mfactor\u001b[0m \u001b[0;34m=\u001b[0m \u001b[0mfactor\u001b[0m\u001b[0;34m\u001b[0m\u001b[0;34m\u001b[0m\u001b[0m\n\u001b[1;32m     16\u001b[0m     \u001b[0;32melif\u001b[0m \u001b[0mheight\u001b[0m \u001b[0;32mis\u001b[0m \u001b[0;32mnot\u001b[0m \u001b[0;32mNone\u001b[0m\u001b[0;34m:\u001b[0m\u001b[0;34m\u001b[0m\u001b[0;34m\u001b[0m\u001b[0m\n",
      "\u001b[0;32m/tmp/ipykernel_1832/1675721143.py\u001b[0m in \u001b[0;36m_minify\u001b[0;34m(data_dir, factors, resolutions)\u001b[0m\n\u001b[1;32m     56\u001b[0m \u001b[0;34m\u001b[0m\u001b[0m\n\u001b[1;32m     57\u001b[0m         \u001b[0mos\u001b[0m\u001b[0;34m.\u001b[0m\u001b[0mchdir\u001b[0m\u001b[0;34m(\u001b[0m\u001b[0mimgdir\u001b[0m\u001b[0;34m)\u001b[0m\u001b[0;34m\u001b[0m\u001b[0;34m\u001b[0m\u001b[0m\n\u001b[0;32m---> 58\u001b[0;31m         \u001b[0mcheck_output\u001b[0m\u001b[0;34m(\u001b[0m\u001b[0margs\u001b[0m\u001b[0;34m,\u001b[0m \u001b[0mshell\u001b[0m\u001b[0;34m=\u001b[0m\u001b[0;32mTrue\u001b[0m\u001b[0;34m)\u001b[0m\u001b[0;34m\u001b[0m\u001b[0;34m\u001b[0m\u001b[0m\n\u001b[0m\u001b[1;32m     59\u001b[0m \u001b[0;34m\u001b[0m\u001b[0m\n\u001b[1;32m     60\u001b[0m         \u001b[0mos\u001b[0m\u001b[0;34m.\u001b[0m\u001b[0mchdir\u001b[0m\u001b[0;34m(\u001b[0m\u001b[0mworking_dir\u001b[0m\u001b[0;34m)\u001b[0m\u001b[0;34m\u001b[0m\u001b[0;34m\u001b[0m\u001b[0m\n",
      "\u001b[0;32m/opt/conda/lib/python3.9/subprocess.py\u001b[0m in \u001b[0;36mcheck_output\u001b[0;34m(timeout, *popenargs, **kwargs)\u001b[0m\n\u001b[1;32m    422\u001b[0m         \u001b[0mkwargs\u001b[0m\u001b[0;34m[\u001b[0m\u001b[0;34m'input'\u001b[0m\u001b[0;34m]\u001b[0m \u001b[0;34m=\u001b[0m \u001b[0mempty\u001b[0m\u001b[0;34m\u001b[0m\u001b[0;34m\u001b[0m\u001b[0m\n\u001b[1;32m    423\u001b[0m \u001b[0;34m\u001b[0m\u001b[0m\n\u001b[0;32m--> 424\u001b[0;31m     return run(*popenargs, stdout=PIPE, timeout=timeout, check=True,\n\u001b[0m\u001b[1;32m    425\u001b[0m                **kwargs).stdout\n\u001b[1;32m    426\u001b[0m \u001b[0;34m\u001b[0m\u001b[0m\n",
      "\u001b[0;32m/opt/conda/lib/python3.9/subprocess.py\u001b[0m in \u001b[0;36mrun\u001b[0;34m(input, capture_output, timeout, check, *popenargs, **kwargs)\u001b[0m\n\u001b[1;32m    526\u001b[0m         \u001b[0mretcode\u001b[0m \u001b[0;34m=\u001b[0m \u001b[0mprocess\u001b[0m\u001b[0;34m.\u001b[0m\u001b[0mpoll\u001b[0m\u001b[0;34m(\u001b[0m\u001b[0;34m)\u001b[0m\u001b[0;34m\u001b[0m\u001b[0;34m\u001b[0m\u001b[0m\n\u001b[1;32m    527\u001b[0m         \u001b[0;32mif\u001b[0m \u001b[0mcheck\u001b[0m \u001b[0;32mand\u001b[0m \u001b[0mretcode\u001b[0m\u001b[0;34m:\u001b[0m\u001b[0;34m\u001b[0m\u001b[0;34m\u001b[0m\u001b[0m\n\u001b[0;32m--> 528\u001b[0;31m             raise CalledProcessError(retcode, process.args,\n\u001b[0m\u001b[1;32m    529\u001b[0m                                      output=stdout, stderr=stderr)\n\u001b[1;32m    530\u001b[0m     \u001b[0;32mreturn\u001b[0m \u001b[0mCompletedProcess\u001b[0m\u001b[0;34m(\u001b[0m\u001b[0mprocess\u001b[0m\u001b[0;34m.\u001b[0m\u001b[0margs\u001b[0m\u001b[0;34m,\u001b[0m \u001b[0mretcode\u001b[0m\u001b[0;34m,\u001b[0m \u001b[0mstdout\u001b[0m\u001b[0;34m,\u001b[0m \u001b[0mstderr\u001b[0m\u001b[0;34m)\u001b[0m\u001b[0;34m\u001b[0m\u001b[0;34m\u001b[0m\u001b[0m\n",
      "\u001b[0;31mCalledProcessError\u001b[0m: Command 'mogrify -resize 12.5% -format png *.png' returned non-zero exit status 127."
     ]
    }
   ],
   "source": [
    "load_llff_data(data_dir, 8, recenter=True, bd_factor=.75, spherify=False)"
   ]
  }
 ],
 "metadata": {
  "kernelspec": {
   "display_name": "Python 3 (clean)",
   "language": "python",
   "name": "python3_clean"
  },
  "language_info": {
   "codemirror_mode": {
    "name": "ipython",
    "version": 3
   },
   "file_extension": ".py",
   "mimetype": "text/x-python",
   "name": "python",
   "nbconvert_exporter": "python",
   "pygments_lexer": "ipython3",
   "version": "3.9.5"
  }
 },
 "nbformat": 4,
 "nbformat_minor": 5
}
